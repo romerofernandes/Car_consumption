{
  "nbformat": 4,
  "nbformat_minor": 0,
  "metadata": {
    "colab": {
      "name": "Car_consumption.ipynb",
      "provenance": [],
      "authorship_tag": "ABX9TyOFT4B0Z2VXWuGkSOuWkZ9g",
      "include_colab_link": true
    },
    "kernelspec": {
      "name": "python3",
      "display_name": "Python 3"
    },
    "language_info": {
      "name": "python"
    }
  },
  "cells": [
    {
      "cell_type": "markdown",
      "metadata": {
        "id": "view-in-github",
        "colab_type": "text"
      },
      "source": [
        "<a href=\"https://colab.research.google.com/github/romerofernandes/Car_consumption/blob/main/Car_consumption.ipynb\" target=\"_parent\"><img src=\"https://colab.research.google.com/assets/colab-badge.svg\" alt=\"Open In Colab\"/></a>"
      ]
    },
    {
      "cell_type": "markdown",
      "source": [
        "#Importações"
      ],
      "metadata": {
        "id": "rDHH0lZHUQC-"
      }
    },
    {
      "cell_type": "code",
      "execution_count": 31,
      "metadata": {
        "id": "eb0oZPTrwBmG"
      },
      "outputs": [],
      "source": [
        "import pandas as pd\n",
        "import numpy as np\n",
        "import seaborn as sns\n",
        "import glob\n",
        "import matplotlib.pyplot as plt"
      ]
    },
    {
      "cell_type": "code",
      "source": [
        "pd.set_option('display.max_rows', None)"
      ],
      "metadata": {
        "id": "aOZNkBXW-Dot"
      },
      "execution_count": 32,
      "outputs": []
    },
    {
      "cell_type": "code",
      "source": [
        "all_csv_files = glob.glob(\"/content/*.csv\")\n",
        "all_csv_files"
      ],
      "metadata": {
        "colab": {
          "base_uri": "https://localhost:8080/"
        },
        "id": "Oe-1L8TogOQs",
        "outputId": "f81a4cdd-90de-4fc2-b6e6-678441c3385d"
      },
      "execution_count": 33,
      "outputs": [
        {
          "output_type": "execute_result",
          "data": {
            "text/plain": [
              "['/content/focus.csv',\n",
              " '/content/skoda.csv',\n",
              " '/content/toyota.csv',\n",
              " '/content/cclass.csv',\n",
              " '/content/unclean cclass.csv',\n",
              " '/content/unclean focus.csv',\n",
              " '/content/audi.csv',\n",
              " '/content/vauxhall.csv',\n",
              " '/content/ford.csv',\n",
              " '/content/hyundi.csv',\n",
              " '/content/merc.csv',\n",
              " '/content/bmw.csv',\n",
              " '/content/vw.csv']"
            ]
          },
          "metadata": {},
          "execution_count": 33
        }
      ]
    },
    {
      "cell_type": "code",
      "source": [
        "df_car = pd.concat(map(pd.read_csv, all_csv_files), axis=0, ignore_index=True)"
      ],
      "metadata": {
        "id": "nHiKuwR2muaC"
      },
      "execution_count": 34,
      "outputs": []
    },
    {
      "cell_type": "code",
      "source": [
        "df_car.info()"
      ],
      "metadata": {
        "colab": {
          "base_uri": "https://localhost:8080/"
        },
        "id": "BtBYDQJggYWp",
        "outputId": "902873b5-819d-4f7f-b265-f2190d3f95a8"
      },
      "execution_count": 35,
      "outputs": [
        {
          "output_type": "stream",
          "name": "stdout",
          "text": [
            "<class 'pandas.core.frame.DataFrame'>\n",
            "RangeIndex: 118150 entries, 0 to 118149\n",
            "Data columns (total 16 columns):\n",
            " #   Column        Non-Null Count   Dtype  \n",
            "---  ------        --------------   -----  \n",
            " 0   model         117995 non-null  object \n",
            " 1   year          117903 non-null  float64\n",
            " 2   price         117995 non-null  object \n",
            " 3   transmission  117995 non-null  object \n",
            " 4   mileage       117077 non-null  object \n",
            " 5   fuelType      108540 non-null  object \n",
            " 6   engineSize    108540 non-null  float64\n",
            " 7   tax           94327 non-null   float64\n",
            " 8   mpg           99187 non-null   float64\n",
            " 9   fuel type     3517 non-null    object \n",
            " 10  engine size   9345 non-null    object \n",
            " 11  mileage2      9399 non-null    object \n",
            " 12  fuel type2    8537 non-null    object \n",
            " 13  engine size2  8537 non-null    object \n",
            " 14  reference     9455 non-null    object \n",
            " 15  tax(£)        4860 non-null    float64\n",
            "dtypes: float64(5), object(11)\n",
            "memory usage: 14.4+ MB\n"
          ]
        }
      ]
    },
    {
      "cell_type": "markdown",
      "source": [
        "#Transformações"
      ],
      "metadata": {
        "id": "ZAR02wg3WCl5"
      }
    },
    {
      "cell_type": "code",
      "source": [
        "df_car.dropna(subset=['mpg'], how='any', inplace=True)"
      ],
      "metadata": {
        "id": "Hcwnr86Gm3Gh"
      },
      "execution_count": 36,
      "outputs": []
    },
    {
      "cell_type": "code",
      "source": [
        "df_car.dropna(axis='columns', inplace=True)"
      ],
      "metadata": {
        "id": "SKBe9wBDwhI4"
      },
      "execution_count": 37,
      "outputs": []
    },
    {
      "cell_type": "code",
      "source": [
        "df_car.info()"
      ],
      "metadata": {
        "colab": {
          "base_uri": "https://localhost:8080/"
        },
        "id": "Xc6pFyuJwpsR",
        "outputId": "fff82a51-5250-481f-8cf8-84d641030dc2"
      },
      "execution_count": 38,
      "outputs": [
        {
          "output_type": "stream",
          "name": "stdout",
          "text": [
            "<class 'pandas.core.frame.DataFrame'>\n",
            "Int64Index: 99187 entries, 5454 to 118149\n",
            "Data columns (total 8 columns):\n",
            " #   Column        Non-Null Count  Dtype  \n",
            "---  ------        --------------  -----  \n",
            " 0   model         99187 non-null  object \n",
            " 1   year          99187 non-null  float64\n",
            " 2   price         99187 non-null  object \n",
            " 3   transmission  99187 non-null  object \n",
            " 4   mileage       99187 non-null  object \n",
            " 5   fuelType      99187 non-null  object \n",
            " 6   engineSize    99187 non-null  float64\n",
            " 7   mpg           99187 non-null  float64\n",
            "dtypes: float64(3), object(5)\n",
            "memory usage: 6.8+ MB\n"
          ]
        }
      ]
    },
    {
      "cell_type": "markdown",
      "source": [
        "##Combinando modelos"
      ],
      "metadata": {
        "id": "4vfwvacdWH1j"
      }
    },
    {
      "cell_type": "code",
      "source": [
        "a = df_car.model.value_counts().reset_index()"
      ],
      "metadata": {
        "id": "u_XpUhnr5XOl"
      },
      "execution_count": 39,
      "outputs": []
    },
    {
      "cell_type": "code",
      "source": [
        "a.columns = ['model', 'qtd']"
      ],
      "metadata": {
        "id": "yQLKWlYf6BpU"
      },
      "execution_count": 40,
      "outputs": []
    },
    {
      "cell_type": "code",
      "source": [
        "finish = False\n",
        "limit_s = 3000\n",
        "limit_i = 2000\n",
        "\n",
        "group_car = 1\n",
        "find_start = 0\n",
        "while a.qtd.iloc[find_start] > limit_i:\n",
        "  find_start +=1\n",
        "\n",
        "previous = find_start\n",
        "actual = find_start + 2\n",
        "\n",
        "while finish is False:\n",
        "  if (a.qtd.iloc[previous:actual].sum() < limit_s) & (a.qtd.iloc[previous:actual].sum() >= limit_i):\n",
        "    modelos = a.model.iloc[previous:actual].values\n",
        "    \n",
        "    for modelo in modelos:\n",
        "      df_car.model.replace(modelo, 'car' + str(group_car), inplace=True)\n",
        "    \n",
        "    group_car +=1\n",
        "    previous = actual\n",
        "    actual += 2\n",
        "  else:\n",
        "    if (a.qtd.iloc[previous:a.shape[0]].sum() < limit_s) & (a.qtd.iloc[previous:a.shape[0]].sum() >= limit_i):\n",
        "      modelos = a.model.iloc[previous:a.shape[0]].values\n",
        "      for modelo in modelos:\n",
        "        df_car.model.replace(modelo, 'car' + str(group_car), inplace=True)\n",
        "      finish=True\n",
        "\n",
        "    elif a.qtd.iloc[previous:actual].sum() <= limit_i:\n",
        "      actual +=1\n",
        "    elif a.qtd.iloc[previous:actual].sum() > limit_s:\n",
        "      previous +=1\n",
        "      actual +=1\n",
        "  \n",
        "  if actual > a.shape[0]:\n",
        "    finish=True"
      ],
      "metadata": {
        "id": "bOzHB97q_GWd"
      },
      "execution_count": 41,
      "outputs": []
    },
    {
      "cell_type": "markdown",
      "source": [
        "##Combinando anos"
      ],
      "metadata": {
        "id": "F8jJzDU9ednI"
      }
    },
    {
      "cell_type": "code",
      "source": [
        "df_car.year = df_car.year.astype(int)\n",
        "df_car.year = df_car.year.astype(str)"
      ],
      "metadata": {
        "id": "InjqOsUxlpU4"
      },
      "execution_count": 42,
      "outputs": []
    },
    {
      "cell_type": "code",
      "source": [
        "df_car.info()"
      ],
      "metadata": {
        "colab": {
          "base_uri": "https://localhost:8080/"
        },
        "id": "l7ufEDX5lDjY",
        "outputId": "3906ea64-9495-4c2e-e173-2b904a21d848"
      },
      "execution_count": 43,
      "outputs": [
        {
          "output_type": "stream",
          "name": "stdout",
          "text": [
            "<class 'pandas.core.frame.DataFrame'>\n",
            "Int64Index: 99187 entries, 5454 to 118149\n",
            "Data columns (total 8 columns):\n",
            " #   Column        Non-Null Count  Dtype  \n",
            "---  ------        --------------  -----  \n",
            " 0   model         99187 non-null  object \n",
            " 1   year          99187 non-null  object \n",
            " 2   price         99187 non-null  object \n",
            " 3   transmission  99187 non-null  object \n",
            " 4   mileage       99187 non-null  object \n",
            " 5   fuelType      99187 non-null  object \n",
            " 6   engineSize    99187 non-null  float64\n",
            " 7   mpg           99187 non-null  float64\n",
            "dtypes: float64(2), object(6)\n",
            "memory usage: 6.8+ MB\n"
          ]
        }
      ]
    },
    {
      "cell_type": "code",
      "source": [
        "df_car.loc[df_car.year=='2060'].index"
      ],
      "metadata": {
        "colab": {
          "base_uri": "https://localhost:8080/"
        },
        "id": "cA3p0r_Ul7S3",
        "outputId": "409742bc-03d3-4082-fbea-154f728fc173"
      },
      "execution_count": 44,
      "outputs": [
        {
          "output_type": "execute_result",
          "data": {
            "text/plain": [
              "Int64Index([73994], dtype='int64')"
            ]
          },
          "metadata": {},
          "execution_count": 44
        }
      ]
    },
    {
      "cell_type": "code",
      "source": [
        "df_car.drop(index=df_car.loc[df_car.year=='2060'].index, inplace=True)"
      ],
      "metadata": {
        "id": "ikPD0QgOmZur"
      },
      "execution_count": 45,
      "outputs": []
    },
    {
      "cell_type": "code",
      "source": [
        "b = df_car.year.value_counts().reset_index()"
      ],
      "metadata": {
        "id": "rNigzn9xdIpN"
      },
      "execution_count": 46,
      "outputs": []
    },
    {
      "cell_type": "code",
      "source": [
        "b.columns = ['year', 'qtd']"
      ],
      "metadata": {
        "id": "0g9JC9tygZVF"
      },
      "execution_count": 47,
      "outputs": []
    },
    {
      "cell_type": "code",
      "source": [
        "anos = b.year.iloc[4:].values\n",
        "for ano in anos:\n",
        "        df_car.year.replace(ano, 'outros', inplace=True)"
      ],
      "metadata": {
        "id": "A37dNnIXnT50"
      },
      "execution_count": 48,
      "outputs": []
    },
    {
      "cell_type": "code",
      "source": [
        "df_car.year.value_counts()"
      ],
      "metadata": {
        "colab": {
          "base_uri": "https://localhost:8080/"
        },
        "id": "hI6wwXIulT9W",
        "outputId": "61ef3138-f697-4c16-89dc-3760e4051cf7"
      },
      "execution_count": 49,
      "outputs": [
        {
          "output_type": "execute_result",
          "data": {
            "text/plain": [
              "2019      26771\n",
              "2017      21733\n",
              "outros    21168\n",
              "2016      15850\n",
              "2018      13664\n",
              "Name: year, dtype: int64"
            ]
          },
          "metadata": {},
          "execution_count": 49
        }
      ]
    },
    {
      "cell_type": "markdown",
      "source": [
        "##Combinando Engine Size"
      ],
      "metadata": {
        "id": "DOaMMdUAort4"
      }
    },
    {
      "cell_type": "code",
      "source": [
        "df_car.head()"
      ],
      "metadata": {
        "colab": {
          "base_uri": "https://localhost:8080/",
          "height": 206
        },
        "id": "B_P9d3nTnMXo",
        "outputId": "7b2f749b-766d-49ba-c4a6-47d7305a2870"
      },
      "execution_count": 50,
      "outputs": [
        {
          "output_type": "execute_result",
          "data": {
            "text/plain": [
              "      model    year  price transmission mileage fuelType  engineSize   mpg\n",
              "5454   car1    2017  10550       Manual   25250   Petrol         1.4  54.3\n",
              "5455  car14    2018   8200       Manual    1264   Petrol         1.0  67.3\n",
              "5456   car1    2019  15650    Automatic    6825   Diesel         2.0  67.3\n",
              "5457  car14  outros  14000    Automatic   28431   Diesel         2.0  51.4\n",
              "5458   car9    2019  18350       Manual   10912   Petrol         1.5  40.9"
            ],
            "text/html": [
              "\n",
              "  <div id=\"df-62d5e9d8-0f72-49ec-accd-1ef39f5e2776\">\n",
              "    <div class=\"colab-df-container\">\n",
              "      <div>\n",
              "<style scoped>\n",
              "    .dataframe tbody tr th:only-of-type {\n",
              "        vertical-align: middle;\n",
              "    }\n",
              "\n",
              "    .dataframe tbody tr th {\n",
              "        vertical-align: top;\n",
              "    }\n",
              "\n",
              "    .dataframe thead th {\n",
              "        text-align: right;\n",
              "    }\n",
              "</style>\n",
              "<table border=\"1\" class=\"dataframe\">\n",
              "  <thead>\n",
              "    <tr style=\"text-align: right;\">\n",
              "      <th></th>\n",
              "      <th>model</th>\n",
              "      <th>year</th>\n",
              "      <th>price</th>\n",
              "      <th>transmission</th>\n",
              "      <th>mileage</th>\n",
              "      <th>fuelType</th>\n",
              "      <th>engineSize</th>\n",
              "      <th>mpg</th>\n",
              "    </tr>\n",
              "  </thead>\n",
              "  <tbody>\n",
              "    <tr>\n",
              "      <th>5454</th>\n",
              "      <td>car1</td>\n",
              "      <td>2017</td>\n",
              "      <td>10550</td>\n",
              "      <td>Manual</td>\n",
              "      <td>25250</td>\n",
              "      <td>Petrol</td>\n",
              "      <td>1.4</td>\n",
              "      <td>54.3</td>\n",
              "    </tr>\n",
              "    <tr>\n",
              "      <th>5455</th>\n",
              "      <td>car14</td>\n",
              "      <td>2018</td>\n",
              "      <td>8200</td>\n",
              "      <td>Manual</td>\n",
              "      <td>1264</td>\n",
              "      <td>Petrol</td>\n",
              "      <td>1.0</td>\n",
              "      <td>67.3</td>\n",
              "    </tr>\n",
              "    <tr>\n",
              "      <th>5456</th>\n",
              "      <td>car1</td>\n",
              "      <td>2019</td>\n",
              "      <td>15650</td>\n",
              "      <td>Automatic</td>\n",
              "      <td>6825</td>\n",
              "      <td>Diesel</td>\n",
              "      <td>2.0</td>\n",
              "      <td>67.3</td>\n",
              "    </tr>\n",
              "    <tr>\n",
              "      <th>5457</th>\n",
              "      <td>car14</td>\n",
              "      <td>outros</td>\n",
              "      <td>14000</td>\n",
              "      <td>Automatic</td>\n",
              "      <td>28431</td>\n",
              "      <td>Diesel</td>\n",
              "      <td>2.0</td>\n",
              "      <td>51.4</td>\n",
              "    </tr>\n",
              "    <tr>\n",
              "      <th>5458</th>\n",
              "      <td>car9</td>\n",
              "      <td>2019</td>\n",
              "      <td>18350</td>\n",
              "      <td>Manual</td>\n",
              "      <td>10912</td>\n",
              "      <td>Petrol</td>\n",
              "      <td>1.5</td>\n",
              "      <td>40.9</td>\n",
              "    </tr>\n",
              "  </tbody>\n",
              "</table>\n",
              "</div>\n",
              "      <button class=\"colab-df-convert\" onclick=\"convertToInteractive('df-62d5e9d8-0f72-49ec-accd-1ef39f5e2776')\"\n",
              "              title=\"Convert this dataframe to an interactive table.\"\n",
              "              style=\"display:none;\">\n",
              "        \n",
              "  <svg xmlns=\"http://www.w3.org/2000/svg\" height=\"24px\"viewBox=\"0 0 24 24\"\n",
              "       width=\"24px\">\n",
              "    <path d=\"M0 0h24v24H0V0z\" fill=\"none\"/>\n",
              "    <path d=\"M18.56 5.44l.94 2.06.94-2.06 2.06-.94-2.06-.94-.94-2.06-.94 2.06-2.06.94zm-11 1L8.5 8.5l.94-2.06 2.06-.94-2.06-.94L8.5 2.5l-.94 2.06-2.06.94zm10 10l.94 2.06.94-2.06 2.06-.94-2.06-.94-.94-2.06-.94 2.06-2.06.94z\"/><path d=\"M17.41 7.96l-1.37-1.37c-.4-.4-.92-.59-1.43-.59-.52 0-1.04.2-1.43.59L10.3 9.45l-7.72 7.72c-.78.78-.78 2.05 0 2.83L4 21.41c.39.39.9.59 1.41.59.51 0 1.02-.2 1.41-.59l7.78-7.78 2.81-2.81c.8-.78.8-2.07 0-2.86zM5.41 20L4 18.59l7.72-7.72 1.47 1.35L5.41 20z\"/>\n",
              "  </svg>\n",
              "      </button>\n",
              "      \n",
              "  <style>\n",
              "    .colab-df-container {\n",
              "      display:flex;\n",
              "      flex-wrap:wrap;\n",
              "      gap: 12px;\n",
              "    }\n",
              "\n",
              "    .colab-df-convert {\n",
              "      background-color: #E8F0FE;\n",
              "      border: none;\n",
              "      border-radius: 50%;\n",
              "      cursor: pointer;\n",
              "      display: none;\n",
              "      fill: #1967D2;\n",
              "      height: 32px;\n",
              "      padding: 0 0 0 0;\n",
              "      width: 32px;\n",
              "    }\n",
              "\n",
              "    .colab-df-convert:hover {\n",
              "      background-color: #E2EBFA;\n",
              "      box-shadow: 0px 1px 2px rgba(60, 64, 67, 0.3), 0px 1px 3px 1px rgba(60, 64, 67, 0.15);\n",
              "      fill: #174EA6;\n",
              "    }\n",
              "\n",
              "    [theme=dark] .colab-df-convert {\n",
              "      background-color: #3B4455;\n",
              "      fill: #D2E3FC;\n",
              "    }\n",
              "\n",
              "    [theme=dark] .colab-df-convert:hover {\n",
              "      background-color: #434B5C;\n",
              "      box-shadow: 0px 1px 3px 1px rgba(0, 0, 0, 0.15);\n",
              "      filter: drop-shadow(0px 1px 2px rgba(0, 0, 0, 0.3));\n",
              "      fill: #FFFFFF;\n",
              "    }\n",
              "  </style>\n",
              "\n",
              "      <script>\n",
              "        const buttonEl =\n",
              "          document.querySelector('#df-62d5e9d8-0f72-49ec-accd-1ef39f5e2776 button.colab-df-convert');\n",
              "        buttonEl.style.display =\n",
              "          google.colab.kernel.accessAllowed ? 'block' : 'none';\n",
              "\n",
              "        async function convertToInteractive(key) {\n",
              "          const element = document.querySelector('#df-62d5e9d8-0f72-49ec-accd-1ef39f5e2776');\n",
              "          const dataTable =\n",
              "            await google.colab.kernel.invokeFunction('convertToInteractive',\n",
              "                                                     [key], {});\n",
              "          if (!dataTable) return;\n",
              "\n",
              "          const docLinkHtml = 'Like what you see? Visit the ' +\n",
              "            '<a target=\"_blank\" href=https://colab.research.google.com/notebooks/data_table.ipynb>data table notebook</a>'\n",
              "            + ' to learn more about interactive tables.';\n",
              "          element.innerHTML = '';\n",
              "          dataTable['output_type'] = 'display_data';\n",
              "          await google.colab.output.renderOutput(dataTable, element);\n",
              "          const docLink = document.createElement('div');\n",
              "          docLink.innerHTML = docLinkHtml;\n",
              "          element.appendChild(docLink);\n",
              "        }\n",
              "      </script>\n",
              "    </div>\n",
              "  </div>\n",
              "  "
            ]
          },
          "metadata": {},
          "execution_count": 50
        }
      ]
    },
    {
      "cell_type": "code",
      "source": [
        "c = df_car.engineSize.value_counts().reset_index()"
      ],
      "metadata": {
        "id": "r23zT47lJP5t"
      },
      "execution_count": 51,
      "outputs": []
    },
    {
      "cell_type": "code",
      "source": [
        "c.columns = ['engineSize', 'qtd']"
      ],
      "metadata": {
        "id": "Q6NteSKRJ6--"
      },
      "execution_count": 52,
      "outputs": []
    },
    {
      "cell_type": "code",
      "source": [
        "c.qtd.iloc[7:].sum()"
      ],
      "metadata": {
        "id": "_QcOvmVnKDfA",
        "outputId": "8ce47635-a3ac-4e59-f283-341fcb7be319",
        "colab": {
          "base_uri": "https://localhost:8080/"
        }
      },
      "execution_count": 53,
      "outputs": [
        {
          "output_type": "execute_result",
          "data": {
            "text/plain": [
              "10939"
            ]
          },
          "metadata": {},
          "execution_count": 53
        }
      ]
    },
    {
      "cell_type": "code",
      "source": [
        "engine_size = c.engineSize.iloc[7:].values\n",
        "df_car.engineSize.replace(engine_size, 'outros', inplace=True)"
      ],
      "metadata": {
        "id": "TGichr5yKEqB"
      },
      "execution_count": 54,
      "outputs": []
    },
    {
      "cell_type": "code",
      "source": [
        "c"
      ],
      "metadata": {
        "id": "QbZ0ptiJLA3v",
        "outputId": "019b2915-6392-4bbd-88f2-2666dfa7d65a",
        "colab": {
          "base_uri": "https://localhost:8080/",
          "height": 1000
        }
      },
      "execution_count": 55,
      "outputs": [
        {
          "output_type": "execute_result",
          "data": {
            "text/plain": [
              "    engineSize    qtd\n",
              "0          2.0  27233\n",
              "1          1.0  17323\n",
              "2          1.5  11418\n",
              "3          1.4  11026\n",
              "4          1.6   8837\n",
              "5          1.2   6963\n",
              "6          3.0   5447\n",
              "7          2.1   4018\n",
              "8          1.8   1717\n",
              "9          1.3   1372\n",
              "10         1.7    911\n",
              "11         1.1    567\n",
              "12         2.2    469\n",
              "13         2.5    456\n",
              "14         4.0    357\n",
              "15         0.0    273\n",
              "16         2.9    171\n",
              "17         2.3    153\n",
              "18         4.4     79\n",
              "19         2.4     72\n",
              "20         5.0     52\n",
              "21         5.5     44\n",
              "22         2.8     41\n",
              "23         3.2     27\n",
              "24         1.9     27\n",
              "25         4.2     26\n",
              "26         4.7     24\n",
              "27         5.2     23\n",
              "28         3.5     20\n",
              "29         6.2     13\n",
              "30         2.7      8\n",
              "31         0.6      7\n",
              "32         4.1      2\n",
              "33         6.0      2\n",
              "34         3.7      2\n",
              "35         6.6      2\n",
              "36         6.3      1\n",
              "37         5.4      1\n",
              "38         4.3      1\n",
              "39         4.5      1"
            ],
            "text/html": [
              "\n",
              "  <div id=\"df-729d169b-d208-4b86-9666-df2b5591328e\">\n",
              "    <div class=\"colab-df-container\">\n",
              "      <div>\n",
              "<style scoped>\n",
              "    .dataframe tbody tr th:only-of-type {\n",
              "        vertical-align: middle;\n",
              "    }\n",
              "\n",
              "    .dataframe tbody tr th {\n",
              "        vertical-align: top;\n",
              "    }\n",
              "\n",
              "    .dataframe thead th {\n",
              "        text-align: right;\n",
              "    }\n",
              "</style>\n",
              "<table border=\"1\" class=\"dataframe\">\n",
              "  <thead>\n",
              "    <tr style=\"text-align: right;\">\n",
              "      <th></th>\n",
              "      <th>engineSize</th>\n",
              "      <th>qtd</th>\n",
              "    </tr>\n",
              "  </thead>\n",
              "  <tbody>\n",
              "    <tr>\n",
              "      <th>0</th>\n",
              "      <td>2.0</td>\n",
              "      <td>27233</td>\n",
              "    </tr>\n",
              "    <tr>\n",
              "      <th>1</th>\n",
              "      <td>1.0</td>\n",
              "      <td>17323</td>\n",
              "    </tr>\n",
              "    <tr>\n",
              "      <th>2</th>\n",
              "      <td>1.5</td>\n",
              "      <td>11418</td>\n",
              "    </tr>\n",
              "    <tr>\n",
              "      <th>3</th>\n",
              "      <td>1.4</td>\n",
              "      <td>11026</td>\n",
              "    </tr>\n",
              "    <tr>\n",
              "      <th>4</th>\n",
              "      <td>1.6</td>\n",
              "      <td>8837</td>\n",
              "    </tr>\n",
              "    <tr>\n",
              "      <th>5</th>\n",
              "      <td>1.2</td>\n",
              "      <td>6963</td>\n",
              "    </tr>\n",
              "    <tr>\n",
              "      <th>6</th>\n",
              "      <td>3.0</td>\n",
              "      <td>5447</td>\n",
              "    </tr>\n",
              "    <tr>\n",
              "      <th>7</th>\n",
              "      <td>2.1</td>\n",
              "      <td>4018</td>\n",
              "    </tr>\n",
              "    <tr>\n",
              "      <th>8</th>\n",
              "      <td>1.8</td>\n",
              "      <td>1717</td>\n",
              "    </tr>\n",
              "    <tr>\n",
              "      <th>9</th>\n",
              "      <td>1.3</td>\n",
              "      <td>1372</td>\n",
              "    </tr>\n",
              "    <tr>\n",
              "      <th>10</th>\n",
              "      <td>1.7</td>\n",
              "      <td>911</td>\n",
              "    </tr>\n",
              "    <tr>\n",
              "      <th>11</th>\n",
              "      <td>1.1</td>\n",
              "      <td>567</td>\n",
              "    </tr>\n",
              "    <tr>\n",
              "      <th>12</th>\n",
              "      <td>2.2</td>\n",
              "      <td>469</td>\n",
              "    </tr>\n",
              "    <tr>\n",
              "      <th>13</th>\n",
              "      <td>2.5</td>\n",
              "      <td>456</td>\n",
              "    </tr>\n",
              "    <tr>\n",
              "      <th>14</th>\n",
              "      <td>4.0</td>\n",
              "      <td>357</td>\n",
              "    </tr>\n",
              "    <tr>\n",
              "      <th>15</th>\n",
              "      <td>0.0</td>\n",
              "      <td>273</td>\n",
              "    </tr>\n",
              "    <tr>\n",
              "      <th>16</th>\n",
              "      <td>2.9</td>\n",
              "      <td>171</td>\n",
              "    </tr>\n",
              "    <tr>\n",
              "      <th>17</th>\n",
              "      <td>2.3</td>\n",
              "      <td>153</td>\n",
              "    </tr>\n",
              "    <tr>\n",
              "      <th>18</th>\n",
              "      <td>4.4</td>\n",
              "      <td>79</td>\n",
              "    </tr>\n",
              "    <tr>\n",
              "      <th>19</th>\n",
              "      <td>2.4</td>\n",
              "      <td>72</td>\n",
              "    </tr>\n",
              "    <tr>\n",
              "      <th>20</th>\n",
              "      <td>5.0</td>\n",
              "      <td>52</td>\n",
              "    </tr>\n",
              "    <tr>\n",
              "      <th>21</th>\n",
              "      <td>5.5</td>\n",
              "      <td>44</td>\n",
              "    </tr>\n",
              "    <tr>\n",
              "      <th>22</th>\n",
              "      <td>2.8</td>\n",
              "      <td>41</td>\n",
              "    </tr>\n",
              "    <tr>\n",
              "      <th>23</th>\n",
              "      <td>3.2</td>\n",
              "      <td>27</td>\n",
              "    </tr>\n",
              "    <tr>\n",
              "      <th>24</th>\n",
              "      <td>1.9</td>\n",
              "      <td>27</td>\n",
              "    </tr>\n",
              "    <tr>\n",
              "      <th>25</th>\n",
              "      <td>4.2</td>\n",
              "      <td>26</td>\n",
              "    </tr>\n",
              "    <tr>\n",
              "      <th>26</th>\n",
              "      <td>4.7</td>\n",
              "      <td>24</td>\n",
              "    </tr>\n",
              "    <tr>\n",
              "      <th>27</th>\n",
              "      <td>5.2</td>\n",
              "      <td>23</td>\n",
              "    </tr>\n",
              "    <tr>\n",
              "      <th>28</th>\n",
              "      <td>3.5</td>\n",
              "      <td>20</td>\n",
              "    </tr>\n",
              "    <tr>\n",
              "      <th>29</th>\n",
              "      <td>6.2</td>\n",
              "      <td>13</td>\n",
              "    </tr>\n",
              "    <tr>\n",
              "      <th>30</th>\n",
              "      <td>2.7</td>\n",
              "      <td>8</td>\n",
              "    </tr>\n",
              "    <tr>\n",
              "      <th>31</th>\n",
              "      <td>0.6</td>\n",
              "      <td>7</td>\n",
              "    </tr>\n",
              "    <tr>\n",
              "      <th>32</th>\n",
              "      <td>4.1</td>\n",
              "      <td>2</td>\n",
              "    </tr>\n",
              "    <tr>\n",
              "      <th>33</th>\n",
              "      <td>6.0</td>\n",
              "      <td>2</td>\n",
              "    </tr>\n",
              "    <tr>\n",
              "      <th>34</th>\n",
              "      <td>3.7</td>\n",
              "      <td>2</td>\n",
              "    </tr>\n",
              "    <tr>\n",
              "      <th>35</th>\n",
              "      <td>6.6</td>\n",
              "      <td>2</td>\n",
              "    </tr>\n",
              "    <tr>\n",
              "      <th>36</th>\n",
              "      <td>6.3</td>\n",
              "      <td>1</td>\n",
              "    </tr>\n",
              "    <tr>\n",
              "      <th>37</th>\n",
              "      <td>5.4</td>\n",
              "      <td>1</td>\n",
              "    </tr>\n",
              "    <tr>\n",
              "      <th>38</th>\n",
              "      <td>4.3</td>\n",
              "      <td>1</td>\n",
              "    </tr>\n",
              "    <tr>\n",
              "      <th>39</th>\n",
              "      <td>4.5</td>\n",
              "      <td>1</td>\n",
              "    </tr>\n",
              "  </tbody>\n",
              "</table>\n",
              "</div>\n",
              "      <button class=\"colab-df-convert\" onclick=\"convertToInteractive('df-729d169b-d208-4b86-9666-df2b5591328e')\"\n",
              "              title=\"Convert this dataframe to an interactive table.\"\n",
              "              style=\"display:none;\">\n",
              "        \n",
              "  <svg xmlns=\"http://www.w3.org/2000/svg\" height=\"24px\"viewBox=\"0 0 24 24\"\n",
              "       width=\"24px\">\n",
              "    <path d=\"M0 0h24v24H0V0z\" fill=\"none\"/>\n",
              "    <path d=\"M18.56 5.44l.94 2.06.94-2.06 2.06-.94-2.06-.94-.94-2.06-.94 2.06-2.06.94zm-11 1L8.5 8.5l.94-2.06 2.06-.94-2.06-.94L8.5 2.5l-.94 2.06-2.06.94zm10 10l.94 2.06.94-2.06 2.06-.94-2.06-.94-.94-2.06-.94 2.06-2.06.94z\"/><path d=\"M17.41 7.96l-1.37-1.37c-.4-.4-.92-.59-1.43-.59-.52 0-1.04.2-1.43.59L10.3 9.45l-7.72 7.72c-.78.78-.78 2.05 0 2.83L4 21.41c.39.39.9.59 1.41.59.51 0 1.02-.2 1.41-.59l7.78-7.78 2.81-2.81c.8-.78.8-2.07 0-2.86zM5.41 20L4 18.59l7.72-7.72 1.47 1.35L5.41 20z\"/>\n",
              "  </svg>\n",
              "      </button>\n",
              "      \n",
              "  <style>\n",
              "    .colab-df-container {\n",
              "      display:flex;\n",
              "      flex-wrap:wrap;\n",
              "      gap: 12px;\n",
              "    }\n",
              "\n",
              "    .colab-df-convert {\n",
              "      background-color: #E8F0FE;\n",
              "      border: none;\n",
              "      border-radius: 50%;\n",
              "      cursor: pointer;\n",
              "      display: none;\n",
              "      fill: #1967D2;\n",
              "      height: 32px;\n",
              "      padding: 0 0 0 0;\n",
              "      width: 32px;\n",
              "    }\n",
              "\n",
              "    .colab-df-convert:hover {\n",
              "      background-color: #E2EBFA;\n",
              "      box-shadow: 0px 1px 2px rgba(60, 64, 67, 0.3), 0px 1px 3px 1px rgba(60, 64, 67, 0.15);\n",
              "      fill: #174EA6;\n",
              "    }\n",
              "\n",
              "    [theme=dark] .colab-df-convert {\n",
              "      background-color: #3B4455;\n",
              "      fill: #D2E3FC;\n",
              "    }\n",
              "\n",
              "    [theme=dark] .colab-df-convert:hover {\n",
              "      background-color: #434B5C;\n",
              "      box-shadow: 0px 1px 3px 1px rgba(0, 0, 0, 0.15);\n",
              "      filter: drop-shadow(0px 1px 2px rgba(0, 0, 0, 0.3));\n",
              "      fill: #FFFFFF;\n",
              "    }\n",
              "  </style>\n",
              "\n",
              "      <script>\n",
              "        const buttonEl =\n",
              "          document.querySelector('#df-729d169b-d208-4b86-9666-df2b5591328e button.colab-df-convert');\n",
              "        buttonEl.style.display =\n",
              "          google.colab.kernel.accessAllowed ? 'block' : 'none';\n",
              "\n",
              "        async function convertToInteractive(key) {\n",
              "          const element = document.querySelector('#df-729d169b-d208-4b86-9666-df2b5591328e');\n",
              "          const dataTable =\n",
              "            await google.colab.kernel.invokeFunction('convertToInteractive',\n",
              "                                                     [key], {});\n",
              "          if (!dataTable) return;\n",
              "\n",
              "          const docLinkHtml = 'Like what you see? Visit the ' +\n",
              "            '<a target=\"_blank\" href=https://colab.research.google.com/notebooks/data_table.ipynb>data table notebook</a>'\n",
              "            + ' to learn more about interactive tables.';\n",
              "          element.innerHTML = '';\n",
              "          dataTable['output_type'] = 'display_data';\n",
              "          await google.colab.output.renderOutput(dataTable, element);\n",
              "          const docLink = document.createElement('div');\n",
              "          docLink.innerHTML = docLinkHtml;\n",
              "          element.appendChild(docLink);\n",
              "        }\n",
              "      </script>\n",
              "    </div>\n",
              "  </div>\n",
              "  "
            ]
          },
          "metadata": {},
          "execution_count": 55
        }
      ]
    },
    {
      "cell_type": "code",
      "source": [
        "c = df_car.engineSize.value_counts().reset_index()\n",
        "c.columns = ['engineSize', 'qtd']"
      ],
      "metadata": {
        "id": "VsN7VKOwLA0n"
      },
      "execution_count": 59,
      "outputs": []
    },
    {
      "cell_type": "code",
      "source": [
        "c"
      ],
      "metadata": {
        "id": "sGX8ZgYvLPJl",
        "outputId": "7e0aa0af-a77a-4634-bf19-e2c2df766ccb",
        "colab": {
          "base_uri": "https://localhost:8080/",
          "height": 300
        }
      },
      "execution_count": 60,
      "outputs": [
        {
          "output_type": "execute_result",
          "data": {
            "text/plain": [
              "  engineSize    qtd\n",
              "0        2.0  27233\n",
              "1        1.0  17323\n",
              "2        1.5  11418\n",
              "3        1.4  11026\n",
              "4     outros  10939\n",
              "5        1.6   8837\n",
              "6        1.2   6963\n",
              "7        3.0   5447"
            ],
            "text/html": [
              "\n",
              "  <div id=\"df-97937c4e-073e-4439-a1d7-c04db7afd8d2\">\n",
              "    <div class=\"colab-df-container\">\n",
              "      <div>\n",
              "<style scoped>\n",
              "    .dataframe tbody tr th:only-of-type {\n",
              "        vertical-align: middle;\n",
              "    }\n",
              "\n",
              "    .dataframe tbody tr th {\n",
              "        vertical-align: top;\n",
              "    }\n",
              "\n",
              "    .dataframe thead th {\n",
              "        text-align: right;\n",
              "    }\n",
              "</style>\n",
              "<table border=\"1\" class=\"dataframe\">\n",
              "  <thead>\n",
              "    <tr style=\"text-align: right;\">\n",
              "      <th></th>\n",
              "      <th>engineSize</th>\n",
              "      <th>qtd</th>\n",
              "    </tr>\n",
              "  </thead>\n",
              "  <tbody>\n",
              "    <tr>\n",
              "      <th>0</th>\n",
              "      <td>2.0</td>\n",
              "      <td>27233</td>\n",
              "    </tr>\n",
              "    <tr>\n",
              "      <th>1</th>\n",
              "      <td>1.0</td>\n",
              "      <td>17323</td>\n",
              "    </tr>\n",
              "    <tr>\n",
              "      <th>2</th>\n",
              "      <td>1.5</td>\n",
              "      <td>11418</td>\n",
              "    </tr>\n",
              "    <tr>\n",
              "      <th>3</th>\n",
              "      <td>1.4</td>\n",
              "      <td>11026</td>\n",
              "    </tr>\n",
              "    <tr>\n",
              "      <th>4</th>\n",
              "      <td>outros</td>\n",
              "      <td>10939</td>\n",
              "    </tr>\n",
              "    <tr>\n",
              "      <th>5</th>\n",
              "      <td>1.6</td>\n",
              "      <td>8837</td>\n",
              "    </tr>\n",
              "    <tr>\n",
              "      <th>6</th>\n",
              "      <td>1.2</td>\n",
              "      <td>6963</td>\n",
              "    </tr>\n",
              "    <tr>\n",
              "      <th>7</th>\n",
              "      <td>3.0</td>\n",
              "      <td>5447</td>\n",
              "    </tr>\n",
              "  </tbody>\n",
              "</table>\n",
              "</div>\n",
              "      <button class=\"colab-df-convert\" onclick=\"convertToInteractive('df-97937c4e-073e-4439-a1d7-c04db7afd8d2')\"\n",
              "              title=\"Convert this dataframe to an interactive table.\"\n",
              "              style=\"display:none;\">\n",
              "        \n",
              "  <svg xmlns=\"http://www.w3.org/2000/svg\" height=\"24px\"viewBox=\"0 0 24 24\"\n",
              "       width=\"24px\">\n",
              "    <path d=\"M0 0h24v24H0V0z\" fill=\"none\"/>\n",
              "    <path d=\"M18.56 5.44l.94 2.06.94-2.06 2.06-.94-2.06-.94-.94-2.06-.94 2.06-2.06.94zm-11 1L8.5 8.5l.94-2.06 2.06-.94-2.06-.94L8.5 2.5l-.94 2.06-2.06.94zm10 10l.94 2.06.94-2.06 2.06-.94-2.06-.94-.94-2.06-.94 2.06-2.06.94z\"/><path d=\"M17.41 7.96l-1.37-1.37c-.4-.4-.92-.59-1.43-.59-.52 0-1.04.2-1.43.59L10.3 9.45l-7.72 7.72c-.78.78-.78 2.05 0 2.83L4 21.41c.39.39.9.59 1.41.59.51 0 1.02-.2 1.41-.59l7.78-7.78 2.81-2.81c.8-.78.8-2.07 0-2.86zM5.41 20L4 18.59l7.72-7.72 1.47 1.35L5.41 20z\"/>\n",
              "  </svg>\n",
              "      </button>\n",
              "      \n",
              "  <style>\n",
              "    .colab-df-container {\n",
              "      display:flex;\n",
              "      flex-wrap:wrap;\n",
              "      gap: 12px;\n",
              "    }\n",
              "\n",
              "    .colab-df-convert {\n",
              "      background-color: #E8F0FE;\n",
              "      border: none;\n",
              "      border-radius: 50%;\n",
              "      cursor: pointer;\n",
              "      display: none;\n",
              "      fill: #1967D2;\n",
              "      height: 32px;\n",
              "      padding: 0 0 0 0;\n",
              "      width: 32px;\n",
              "    }\n",
              "\n",
              "    .colab-df-convert:hover {\n",
              "      background-color: #E2EBFA;\n",
              "      box-shadow: 0px 1px 2px rgba(60, 64, 67, 0.3), 0px 1px 3px 1px rgba(60, 64, 67, 0.15);\n",
              "      fill: #174EA6;\n",
              "    }\n",
              "\n",
              "    [theme=dark] .colab-df-convert {\n",
              "      background-color: #3B4455;\n",
              "      fill: #D2E3FC;\n",
              "    }\n",
              "\n",
              "    [theme=dark] .colab-df-convert:hover {\n",
              "      background-color: #434B5C;\n",
              "      box-shadow: 0px 1px 3px 1px rgba(0, 0, 0, 0.15);\n",
              "      filter: drop-shadow(0px 1px 2px rgba(0, 0, 0, 0.3));\n",
              "      fill: #FFFFFF;\n",
              "    }\n",
              "  </style>\n",
              "\n",
              "      <script>\n",
              "        const buttonEl =\n",
              "          document.querySelector('#df-97937c4e-073e-4439-a1d7-c04db7afd8d2 button.colab-df-convert');\n",
              "        buttonEl.style.display =\n",
              "          google.colab.kernel.accessAllowed ? 'block' : 'none';\n",
              "\n",
              "        async function convertToInteractive(key) {\n",
              "          const element = document.querySelector('#df-97937c4e-073e-4439-a1d7-c04db7afd8d2');\n",
              "          const dataTable =\n",
              "            await google.colab.kernel.invokeFunction('convertToInteractive',\n",
              "                                                     [key], {});\n",
              "          if (!dataTable) return;\n",
              "\n",
              "          const docLinkHtml = 'Like what you see? Visit the ' +\n",
              "            '<a target=\"_blank\" href=https://colab.research.google.com/notebooks/data_table.ipynb>data table notebook</a>'\n",
              "            + ' to learn more about interactive tables.';\n",
              "          element.innerHTML = '';\n",
              "          dataTable['output_type'] = 'display_data';\n",
              "          await google.colab.output.renderOutput(dataTable, element);\n",
              "          const docLink = document.createElement('div');\n",
              "          docLink.innerHTML = docLinkHtml;\n",
              "          element.appendChild(docLink);\n",
              "        }\n",
              "      </script>\n",
              "    </div>\n",
              "  </div>\n",
              "  "
            ]
          },
          "metadata": {},
          "execution_count": 60
        }
      ]
    },
    {
      "cell_type": "code",
      "source": [
        "c.qtd.iloc[6:].sum()"
      ],
      "metadata": {
        "id": "JLE76SpkLPti",
        "outputId": "e7eef668-9f2a-4c7d-b815-4780bfa8994c",
        "colab": {
          "base_uri": "https://localhost:8080/"
        }
      },
      "execution_count": 62,
      "outputs": [
        {
          "output_type": "execute_result",
          "data": {
            "text/plain": [
              "12410"
            ]
          },
          "metadata": {},
          "execution_count": 62
        }
      ]
    },
    {
      "cell_type": "code",
      "source": [
        "df_car.engineSize.replace([1.6, 1.2], '1.2/1.6', inplace=True)"
      ],
      "metadata": {
        "id": "pVDkpC2jLvxt"
      },
      "execution_count": 64,
      "outputs": []
    },
    {
      "cell_type": "code",
      "source": [
        "df_car.engineSize.replace(3.0, 'outros', inplace=True)"
      ],
      "metadata": {
        "id": "5eDtS4b7NUQa"
      },
      "execution_count": 65,
      "outputs": []
    },
    {
      "cell_type": "code",
      "source": [
        "df_car.engineSize.value_counts()"
      ],
      "metadata": {
        "id": "-dq9-Ro-Nv4D",
        "outputId": "aa917fd4-6f4b-4ad7-b5bc-a576bff43aa8",
        "colab": {
          "base_uri": "https://localhost:8080/"
        }
      },
      "execution_count": 66,
      "outputs": [
        {
          "output_type": "execute_result",
          "data": {
            "text/plain": [
              "2.0        27233\n",
              "1.0        17323\n",
              "outros     16386\n",
              "1.2/1.6    15800\n",
              "1.5        11418\n",
              "1.4        11026\n",
              "Name: engineSize, dtype: int64"
            ]
          },
          "metadata": {},
          "execution_count": 66
        }
      ]
    },
    {
      "cell_type": "markdown",
      "source": [
        "#testes"
      ],
      "metadata": {
        "id": "_0MQqWzpOPMD"
      }
    },
    {
      "cell_type": "code",
      "source": [
        "df_car.info()"
      ],
      "metadata": {
        "id": "iP2S5_3xNzEB",
        "outputId": "96636c1d-c3fa-41c0-fc1c-c26b511ce95c",
        "colab": {
          "base_uri": "https://localhost:8080/"
        }
      },
      "execution_count": 70,
      "outputs": [
        {
          "output_type": "stream",
          "name": "stdout",
          "text": [
            "<class 'pandas.core.frame.DataFrame'>\n",
            "Int64Index: 99186 entries, 5454 to 118149\n",
            "Data columns (total 8 columns):\n",
            " #   Column        Non-Null Count  Dtype  \n",
            "---  ------        --------------  -----  \n",
            " 0   model         99186 non-null  object \n",
            " 1   year          99186 non-null  object \n",
            " 2   price         99186 non-null  float64\n",
            " 3   transmission  99186 non-null  object \n",
            " 4   mileage       99186 non-null  float64\n",
            " 5   fuelType      99186 non-null  object \n",
            " 6   engineSize    99186 non-null  object \n",
            " 7   mpg           99186 non-null  float64\n",
            "dtypes: float64(3), object(5)\n",
            "memory usage: 6.8+ MB\n"
          ]
        }
      ]
    },
    {
      "cell_type": "code",
      "source": [
        "df_car.head()"
      ],
      "metadata": {
        "id": "TGxjAGbUOZ2g",
        "outputId": "f4728bcc-181b-4b93-800c-a6339434e2f8",
        "colab": {
          "base_uri": "https://localhost:8080/",
          "height": 206
        }
      },
      "execution_count": 68,
      "outputs": [
        {
          "output_type": "execute_result",
          "data": {
            "text/plain": [
              "      model    year  price transmission mileage fuelType engineSize   mpg\n",
              "5454   car1    2017  10550       Manual   25250   Petrol        1.4  54.3\n",
              "5455  car14    2018   8200       Manual    1264   Petrol        1.0  67.3\n",
              "5456   car1    2019  15650    Automatic    6825   Diesel        2.0  67.3\n",
              "5457  car14  outros  14000    Automatic   28431   Diesel        2.0  51.4\n",
              "5458   car9    2019  18350       Manual   10912   Petrol        1.5  40.9"
            ],
            "text/html": [
              "\n",
              "  <div id=\"df-cb0bbaef-951f-4ad8-8e45-ddbd0d416650\">\n",
              "    <div class=\"colab-df-container\">\n",
              "      <div>\n",
              "<style scoped>\n",
              "    .dataframe tbody tr th:only-of-type {\n",
              "        vertical-align: middle;\n",
              "    }\n",
              "\n",
              "    .dataframe tbody tr th {\n",
              "        vertical-align: top;\n",
              "    }\n",
              "\n",
              "    .dataframe thead th {\n",
              "        text-align: right;\n",
              "    }\n",
              "</style>\n",
              "<table border=\"1\" class=\"dataframe\">\n",
              "  <thead>\n",
              "    <tr style=\"text-align: right;\">\n",
              "      <th></th>\n",
              "      <th>model</th>\n",
              "      <th>year</th>\n",
              "      <th>price</th>\n",
              "      <th>transmission</th>\n",
              "      <th>mileage</th>\n",
              "      <th>fuelType</th>\n",
              "      <th>engineSize</th>\n",
              "      <th>mpg</th>\n",
              "    </tr>\n",
              "  </thead>\n",
              "  <tbody>\n",
              "    <tr>\n",
              "      <th>5454</th>\n",
              "      <td>car1</td>\n",
              "      <td>2017</td>\n",
              "      <td>10550</td>\n",
              "      <td>Manual</td>\n",
              "      <td>25250</td>\n",
              "      <td>Petrol</td>\n",
              "      <td>1.4</td>\n",
              "      <td>54.3</td>\n",
              "    </tr>\n",
              "    <tr>\n",
              "      <th>5455</th>\n",
              "      <td>car14</td>\n",
              "      <td>2018</td>\n",
              "      <td>8200</td>\n",
              "      <td>Manual</td>\n",
              "      <td>1264</td>\n",
              "      <td>Petrol</td>\n",
              "      <td>1.0</td>\n",
              "      <td>67.3</td>\n",
              "    </tr>\n",
              "    <tr>\n",
              "      <th>5456</th>\n",
              "      <td>car1</td>\n",
              "      <td>2019</td>\n",
              "      <td>15650</td>\n",
              "      <td>Automatic</td>\n",
              "      <td>6825</td>\n",
              "      <td>Diesel</td>\n",
              "      <td>2.0</td>\n",
              "      <td>67.3</td>\n",
              "    </tr>\n",
              "    <tr>\n",
              "      <th>5457</th>\n",
              "      <td>car14</td>\n",
              "      <td>outros</td>\n",
              "      <td>14000</td>\n",
              "      <td>Automatic</td>\n",
              "      <td>28431</td>\n",
              "      <td>Diesel</td>\n",
              "      <td>2.0</td>\n",
              "      <td>51.4</td>\n",
              "    </tr>\n",
              "    <tr>\n",
              "      <th>5458</th>\n",
              "      <td>car9</td>\n",
              "      <td>2019</td>\n",
              "      <td>18350</td>\n",
              "      <td>Manual</td>\n",
              "      <td>10912</td>\n",
              "      <td>Petrol</td>\n",
              "      <td>1.5</td>\n",
              "      <td>40.9</td>\n",
              "    </tr>\n",
              "  </tbody>\n",
              "</table>\n",
              "</div>\n",
              "      <button class=\"colab-df-convert\" onclick=\"convertToInteractive('df-cb0bbaef-951f-4ad8-8e45-ddbd0d416650')\"\n",
              "              title=\"Convert this dataframe to an interactive table.\"\n",
              "              style=\"display:none;\">\n",
              "        \n",
              "  <svg xmlns=\"http://www.w3.org/2000/svg\" height=\"24px\"viewBox=\"0 0 24 24\"\n",
              "       width=\"24px\">\n",
              "    <path d=\"M0 0h24v24H0V0z\" fill=\"none\"/>\n",
              "    <path d=\"M18.56 5.44l.94 2.06.94-2.06 2.06-.94-2.06-.94-.94-2.06-.94 2.06-2.06.94zm-11 1L8.5 8.5l.94-2.06 2.06-.94-2.06-.94L8.5 2.5l-.94 2.06-2.06.94zm10 10l.94 2.06.94-2.06 2.06-.94-2.06-.94-.94-2.06-.94 2.06-2.06.94z\"/><path d=\"M17.41 7.96l-1.37-1.37c-.4-.4-.92-.59-1.43-.59-.52 0-1.04.2-1.43.59L10.3 9.45l-7.72 7.72c-.78.78-.78 2.05 0 2.83L4 21.41c.39.39.9.59 1.41.59.51 0 1.02-.2 1.41-.59l7.78-7.78 2.81-2.81c.8-.78.8-2.07 0-2.86zM5.41 20L4 18.59l7.72-7.72 1.47 1.35L5.41 20z\"/>\n",
              "  </svg>\n",
              "      </button>\n",
              "      \n",
              "  <style>\n",
              "    .colab-df-container {\n",
              "      display:flex;\n",
              "      flex-wrap:wrap;\n",
              "      gap: 12px;\n",
              "    }\n",
              "\n",
              "    .colab-df-convert {\n",
              "      background-color: #E8F0FE;\n",
              "      border: none;\n",
              "      border-radius: 50%;\n",
              "      cursor: pointer;\n",
              "      display: none;\n",
              "      fill: #1967D2;\n",
              "      height: 32px;\n",
              "      padding: 0 0 0 0;\n",
              "      width: 32px;\n",
              "    }\n",
              "\n",
              "    .colab-df-convert:hover {\n",
              "      background-color: #E2EBFA;\n",
              "      box-shadow: 0px 1px 2px rgba(60, 64, 67, 0.3), 0px 1px 3px 1px rgba(60, 64, 67, 0.15);\n",
              "      fill: #174EA6;\n",
              "    }\n",
              "\n",
              "    [theme=dark] .colab-df-convert {\n",
              "      background-color: #3B4455;\n",
              "      fill: #D2E3FC;\n",
              "    }\n",
              "\n",
              "    [theme=dark] .colab-df-convert:hover {\n",
              "      background-color: #434B5C;\n",
              "      box-shadow: 0px 1px 3px 1px rgba(0, 0, 0, 0.15);\n",
              "      filter: drop-shadow(0px 1px 2px rgba(0, 0, 0, 0.3));\n",
              "      fill: #FFFFFF;\n",
              "    }\n",
              "  </style>\n",
              "\n",
              "      <script>\n",
              "        const buttonEl =\n",
              "          document.querySelector('#df-cb0bbaef-951f-4ad8-8e45-ddbd0d416650 button.colab-df-convert');\n",
              "        buttonEl.style.display =\n",
              "          google.colab.kernel.accessAllowed ? 'block' : 'none';\n",
              "\n",
              "        async function convertToInteractive(key) {\n",
              "          const element = document.querySelector('#df-cb0bbaef-951f-4ad8-8e45-ddbd0d416650');\n",
              "          const dataTable =\n",
              "            await google.colab.kernel.invokeFunction('convertToInteractive',\n",
              "                                                     [key], {});\n",
              "          if (!dataTable) return;\n",
              "\n",
              "          const docLinkHtml = 'Like what you see? Visit the ' +\n",
              "            '<a target=\"_blank\" href=https://colab.research.google.com/notebooks/data_table.ipynb>data table notebook</a>'\n",
              "            + ' to learn more about interactive tables.';\n",
              "          element.innerHTML = '';\n",
              "          dataTable['output_type'] = 'display_data';\n",
              "          await google.colab.output.renderOutput(dataTable, element);\n",
              "          const docLink = document.createElement('div');\n",
              "          docLink.innerHTML = docLinkHtml;\n",
              "          element.appendChild(docLink);\n",
              "        }\n",
              "      </script>\n",
              "    </div>\n",
              "  </div>\n",
              "  "
            ]
          },
          "metadata": {},
          "execution_count": 68
        }
      ]
    },
    {
      "cell_type": "code",
      "source": [
        "df_car.price = df_car.price.astype('float')\n",
        "df_car.mileage = df_car.mileage.astype('float')"
      ],
      "metadata": {
        "id": "_WicEIwVOr2d"
      },
      "execution_count": 69,
      "outputs": []
    },
    {
      "cell_type": "code",
      "source": [
        ""
      ],
      "metadata": {
        "id": "ij4geFkoPICt"
      },
      "execution_count": null,
      "outputs": []
    }
  ]
}