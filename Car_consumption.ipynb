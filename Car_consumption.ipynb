{
  "nbformat": 4,
  "nbformat_minor": 0,
  "metadata": {
    "colab": {
      "name": "Car_consumption.ipynb",
      "provenance": [],
      "authorship_tag": "ABX9TyNiboo9gjss9nm1IsCosn/x",
      "include_colab_link": true
    },
    "kernelspec": {
      "name": "python3",
      "display_name": "Python 3"
    },
    "language_info": {
      "name": "python"
    }
  },
  "cells": [
    {
      "cell_type": "markdown",
      "metadata": {
        "id": "view-in-github",
        "colab_type": "text"
      },
      "source": [
        "<a href=\"https://colab.research.google.com/github/romerofernandes/Car_consumption/blob/main/Car_consumption.ipynb\" target=\"_parent\"><img src=\"https://colab.research.google.com/assets/colab-badge.svg\" alt=\"Open In Colab\"/></a>"
      ]
    },
    {
      "cell_type": "markdown",
      "source": [
        "#Importações"
      ],
      "metadata": {
        "id": "rDHH0lZHUQC-"
      }
    },
    {
      "cell_type": "code",
      "execution_count": 2,
      "metadata": {
        "id": "eb0oZPTrwBmG"
      },
      "outputs": [],
      "source": [
        "import pandas as pd\n",
        "import numpy as np\n",
        "import seaborn as sns\n",
        "import glob\n",
        "import matplotlib.pyplot as plt"
      ]
    },
    {
      "cell_type": "code",
      "source": [
        "all_csv_files = glob.glob(\"/content/*.csv\")\n",
        "all_csv_files"
      ],
      "metadata": {
        "colab": {
          "base_uri": "https://localhost:8080/"
        },
        "id": "Oe-1L8TogOQs",
        "outputId": "757a5b33-449c-4602-99e3-856e4f3ac040"
      },
      "execution_count": 4,
      "outputs": [
        {
          "output_type": "execute_result",
          "data": {
            "text/plain": [
              "['/content/audi.csv',\n",
              " '/content/vauxhall.csv',\n",
              " '/content/hyundi.csv',\n",
              " '/content/unclean cclass.csv',\n",
              " '/content/merc.csv',\n",
              " '/content/ford.csv',\n",
              " '/content/bmw.csv',\n",
              " '/content/unclean focus.csv',\n",
              " '/content/skoda.csv',\n",
              " '/content/cclass.csv',\n",
              " '/content/toyota.csv',\n",
              " '/content/vw.csv',\n",
              " '/content/focus.csv']"
            ]
          },
          "metadata": {},
          "execution_count": 4
        }
      ]
    },
    {
      "cell_type": "code",
      "source": [
        ""
      ],
      "metadata": {
        "id": "BtBYDQJggYWp"
      },
      "execution_count": null,
      "outputs": []
    }
  ]
}