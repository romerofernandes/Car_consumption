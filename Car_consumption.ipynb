{
  "nbformat": 4,
  "nbformat_minor": 0,
  "metadata": {
    "colab": {
      "name": "Car_consumption.ipynb",
      "provenance": [],
      "authorship_tag": "ABX9TyMUesfC4PV47Mv2+2pj39JW",
      "include_colab_link": true
    },
    "kernelspec": {
      "name": "python3",
      "display_name": "Python 3"
    },
    "language_info": {
      "name": "python"
    }
  },
  "cells": [
    {
      "cell_type": "markdown",
      "metadata": {
        "id": "view-in-github",
        "colab_type": "text"
      },
      "source": [
        "<a href=\"https://colab.research.google.com/github/romerofernandes/Car_consumption/blob/main/Car_consumption.ipynb\" target=\"_parent\"><img src=\"https://colab.research.google.com/assets/colab-badge.svg\" alt=\"Open In Colab\"/></a>"
      ]
    },
    {
      "cell_type": "markdown",
      "source": [
        "#Importações"
      ],
      "metadata": {
        "id": "rDHH0lZHUQC-"
      }
    },
    {
      "cell_type": "code",
      "execution_count": 87,
      "metadata": {
        "id": "eb0oZPTrwBmG"
      },
      "outputs": [],
      "source": [
        "import pandas as pd\n",
        "import numpy as np\n",
        "import seaborn as sns\n",
        "import glob\n",
        "import matplotlib.pyplot as plt"
      ]
    },
    {
      "cell_type": "code",
      "source": [
        "pd.set_option('display.max_rows', None)"
      ],
      "metadata": {
        "id": "aOZNkBXW-Dot"
      },
      "execution_count": 88,
      "outputs": []
    },
    {
      "cell_type": "code",
      "source": [
        "all_csv_files = glob.glob(\"/content/*.csv\")\n",
        "all_csv_files"
      ],
      "metadata": {
        "colab": {
          "base_uri": "https://localhost:8080/"
        },
        "id": "Oe-1L8TogOQs",
        "outputId": "67031dcb-2d0a-45f8-9dcf-386d6e206c85"
      },
      "execution_count": 89,
      "outputs": [
        {
          "output_type": "execute_result",
          "data": {
            "text/plain": [
              "['/content/skoda.csv',\n",
              " '/content/hyundi.csv',\n",
              " '/content/unclean focus.csv',\n",
              " '/content/vauxhall.csv',\n",
              " '/content/merc.csv',\n",
              " '/content/audi.csv',\n",
              " '/content/vw.csv',\n",
              " '/content/bmw.csv',\n",
              " '/content/toyota.csv',\n",
              " '/content/focus.csv',\n",
              " '/content/ford.csv',\n",
              " '/content/unclean cclass.csv',\n",
              " '/content/cclass.csv']"
            ]
          },
          "metadata": {},
          "execution_count": 89
        }
      ]
    },
    {
      "cell_type": "code",
      "source": [
        "df_car = pd.concat(map(pd.read_csv, all_csv_files), axis=0, ignore_index=True)"
      ],
      "metadata": {
        "id": "nHiKuwR2muaC"
      },
      "execution_count": 90,
      "outputs": []
    },
    {
      "cell_type": "code",
      "source": [
        "df_car.info()"
      ],
      "metadata": {
        "colab": {
          "base_uri": "https://localhost:8080/"
        },
        "id": "BtBYDQJggYWp",
        "outputId": "3133532d-f709-40e1-c83c-926945a2eeaf"
      },
      "execution_count": 91,
      "outputs": [
        {
          "output_type": "stream",
          "name": "stdout",
          "text": [
            "<class 'pandas.core.frame.DataFrame'>\n",
            "RangeIndex: 118150 entries, 0 to 118149\n",
            "Data columns (total 16 columns):\n",
            " #   Column        Non-Null Count   Dtype  \n",
            "---  ------        --------------   -----  \n",
            " 0   model         117995 non-null  object \n",
            " 1   year          117903 non-null  float64\n",
            " 2   price         117995 non-null  object \n",
            " 3   transmission  117995 non-null  object \n",
            " 4   mileage       117077 non-null  object \n",
            " 5   fuelType      108540 non-null  object \n",
            " 6   tax           94327 non-null   float64\n",
            " 7   mpg           99187 non-null   float64\n",
            " 8   engineSize    108540 non-null  float64\n",
            " 9   tax(£)        4860 non-null    float64\n",
            " 10  fuel type     3517 non-null    object \n",
            " 11  engine size   9345 non-null    object \n",
            " 12  mileage2      9399 non-null    object \n",
            " 13  fuel type2    8537 non-null    object \n",
            " 14  engine size2  8537 non-null    object \n",
            " 15  reference     9455 non-null    object \n",
            "dtypes: float64(5), object(11)\n",
            "memory usage: 14.4+ MB\n"
          ]
        }
      ]
    },
    {
      "cell_type": "markdown",
      "source": [
        "#Transformações"
      ],
      "metadata": {
        "id": "ZAR02wg3WCl5"
      }
    },
    {
      "cell_type": "code",
      "source": [
        "df_car.dropna(subset=['mpg'], how='any', inplace=True)"
      ],
      "metadata": {
        "id": "Hcwnr86Gm3Gh"
      },
      "execution_count": 92,
      "outputs": []
    },
    {
      "cell_type": "code",
      "source": [
        "df_car.dropna(axis='columns', inplace=True)"
      ],
      "metadata": {
        "id": "SKBe9wBDwhI4"
      },
      "execution_count": 93,
      "outputs": []
    },
    {
      "cell_type": "code",
      "source": [
        "df_car.info()"
      ],
      "metadata": {
        "colab": {
          "base_uri": "https://localhost:8080/"
        },
        "id": "Xc6pFyuJwpsR",
        "outputId": "5ce1256b-57a8-4d50-bd5a-043eac1c32ab"
      },
      "execution_count": 94,
      "outputs": [
        {
          "output_type": "stream",
          "name": "stdout",
          "text": [
            "<class 'pandas.core.frame.DataFrame'>\n",
            "Int64Index: 99187 entries, 0 to 110244\n",
            "Data columns (total 8 columns):\n",
            " #   Column        Non-Null Count  Dtype  \n",
            "---  ------        --------------  -----  \n",
            " 0   model         99187 non-null  object \n",
            " 1   year          99187 non-null  float64\n",
            " 2   price         99187 non-null  object \n",
            " 3   transmission  99187 non-null  object \n",
            " 4   mileage       99187 non-null  object \n",
            " 5   fuelType      99187 non-null  object \n",
            " 6   mpg           99187 non-null  float64\n",
            " 7   engineSize    99187 non-null  float64\n",
            "dtypes: float64(3), object(5)\n",
            "memory usage: 6.8+ MB\n"
          ]
        }
      ]
    },
    {
      "cell_type": "markdown",
      "source": [
        "##Combinando modelos"
      ],
      "metadata": {
        "id": "4vfwvacdWH1j"
      }
    },
    {
      "cell_type": "code",
      "source": [
        "a = df_car.model.value_counts().reset_index()"
      ],
      "metadata": {
        "id": "u_XpUhnr5XOl"
      },
      "execution_count": 95,
      "outputs": []
    },
    {
      "cell_type": "code",
      "source": [
        "a.columns = ['model', 'qtd']"
      ],
      "metadata": {
        "id": "yQLKWlYf6BpU"
      },
      "execution_count": 96,
      "outputs": []
    },
    {
      "cell_type": "code",
      "source": [
        "finish = False\n",
        "limit_s = 3000\n",
        "limit_i = 2000\n",
        "\n",
        "group_car = 1\n",
        "find_start = 0\n",
        "while a.qtd.iloc[find_start] > limit_i:\n",
        "  find_start +=1\n",
        "\n",
        "previous = find_start\n",
        "actual = find_start + 2\n",
        "\n",
        "while finish is False:\n",
        "  if (a.qtd.iloc[previous:actual].sum() < limit_s) & (a.qtd.iloc[previous:actual].sum() >= limit_i):\n",
        "    modelos = a.model.iloc[previous:actual].values\n",
        "    \n",
        "    for modelo in modelos:\n",
        "      df_car.model.replace(modelo, 'car' + str(group_car), inplace=True)#loc[df_car.model==modelo] = 'car' + str(group_car)\n",
        "    \n",
        "    group_car +=1\n",
        "    previous = actual\n",
        "    actual += 2\n",
        "  else:\n",
        "    if (a.qtd.iloc[previous:a.shape[0]].sum() < limit_s) & (a.qtd.iloc[previous:a.shape[0]].sum() >= limit_i):\n",
        "      modelos = a.model.iloc[previous:a.shape[0]].values\n",
        "      for modelo in modelos:\n",
        "        df_car.model.replace(modelo, 'car' + str(group_car), inplace=True)\n",
        "      finish=True\n",
        "\n",
        "    elif a.qtd.iloc[previous:actual].sum() <= limit_i:\n",
        "      actual +=1\n",
        "    elif a.qtd.iloc[previous:actual].sum() > limit_s:\n",
        "      previous +=1\n",
        "      actual +=1\n",
        "  \n",
        "  if actual > a.shape[0]:\n",
        "    finish=True"
      ],
      "metadata": {
        "id": "bOzHB97q_GWd"
      },
      "execution_count": 98,
      "outputs": []
    },
    {
      "cell_type": "markdown",
      "source": [
        "#testes"
      ],
      "metadata": {
        "id": "F8jJzDU9ednI"
      }
    },
    {
      "cell_type": "code",
      "source": [
        ""
      ],
      "metadata": {
        "id": "rNigzn9xdIpN"
      },
      "execution_count": null,
      "outputs": []
    }
  ]
}