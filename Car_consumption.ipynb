{
  "nbformat": 4,
  "nbformat_minor": 0,
  "metadata": {
    "colab": {
      "name": "Car_consumption.ipynb",
      "provenance": [],
      "authorship_tag": "ABX9TyNj5bEuBkdDLQ9rEi1G97u/",
      "include_colab_link": true
    },
    "kernelspec": {
      "name": "python3",
      "display_name": "Python 3"
    },
    "language_info": {
      "name": "python"
    }
  },
  "cells": [
    {
      "cell_type": "markdown",
      "metadata": {
        "id": "view-in-github",
        "colab_type": "text"
      },
      "source": [
        "<a href=\"https://colab.research.google.com/github/romerofernandes/Car_consumption/blob/main/Car_consumption.ipynb\" target=\"_parent\"><img src=\"https://colab.research.google.com/assets/colab-badge.svg\" alt=\"Open In Colab\"/></a>"
      ]
    },
    {
      "cell_type": "markdown",
      "source": [
        "#Importações"
      ],
      "metadata": {
        "id": "rDHH0lZHUQC-"
      }
    },
    {
      "cell_type": "code",
      "execution_count": 111,
      "metadata": {
        "id": "eb0oZPTrwBmG"
      },
      "outputs": [],
      "source": [
        "import pandas as pd\n",
        "import numpy as np\n",
        "import seaborn as sns\n",
        "import glob\n",
        "import matplotlib.pyplot as plt"
      ]
    },
    {
      "cell_type": "code",
      "source": [
        "pd.set_option('display.max_rows', None)"
      ],
      "metadata": {
        "id": "aOZNkBXW-Dot"
      },
      "execution_count": 112,
      "outputs": []
    },
    {
      "cell_type": "code",
      "source": [
        "all_csv_files = glob.glob(\"/content/*.csv\")\n",
        "all_csv_files"
      ],
      "metadata": {
        "colab": {
          "base_uri": "https://localhost:8080/"
        },
        "id": "Oe-1L8TogOQs",
        "outputId": "294cef35-0341-44dc-a657-11be11ff057b"
      },
      "execution_count": 113,
      "outputs": [
        {
          "output_type": "execute_result",
          "data": {
            "text/plain": [
              "['/content/skoda.csv',\n",
              " '/content/hyundi.csv',\n",
              " '/content/unclean focus.csv',\n",
              " '/content/vauxhall.csv',\n",
              " '/content/merc.csv',\n",
              " '/content/audi.csv',\n",
              " '/content/vw.csv',\n",
              " '/content/bmw.csv',\n",
              " '/content/toyota.csv',\n",
              " '/content/focus.csv',\n",
              " '/content/ford.csv',\n",
              " '/content/unclean cclass.csv',\n",
              " '/content/cclass.csv']"
            ]
          },
          "metadata": {},
          "execution_count": 113
        }
      ]
    },
    {
      "cell_type": "code",
      "source": [
        "df_car = pd.concat(map(pd.read_csv, all_csv_files), axis=0, ignore_index=True)"
      ],
      "metadata": {
        "id": "nHiKuwR2muaC"
      },
      "execution_count": 114,
      "outputs": []
    },
    {
      "cell_type": "code",
      "source": [
        "df_car.info()"
      ],
      "metadata": {
        "colab": {
          "base_uri": "https://localhost:8080/"
        },
        "id": "BtBYDQJggYWp",
        "outputId": "f26e99b2-d177-45b4-d83c-c37a21e1f9ff"
      },
      "execution_count": 115,
      "outputs": [
        {
          "output_type": "stream",
          "name": "stdout",
          "text": [
            "<class 'pandas.core.frame.DataFrame'>\n",
            "RangeIndex: 118150 entries, 0 to 118149\n",
            "Data columns (total 16 columns):\n",
            " #   Column        Non-Null Count   Dtype  \n",
            "---  ------        --------------   -----  \n",
            " 0   model         117995 non-null  object \n",
            " 1   year          117903 non-null  float64\n",
            " 2   price         117995 non-null  object \n",
            " 3   transmission  117995 non-null  object \n",
            " 4   mileage       117077 non-null  object \n",
            " 5   fuelType      108540 non-null  object \n",
            " 6   tax           94327 non-null   float64\n",
            " 7   mpg           99187 non-null   float64\n",
            " 8   engineSize    108540 non-null  float64\n",
            " 9   tax(£)        4860 non-null    float64\n",
            " 10  fuel type     3517 non-null    object \n",
            " 11  engine size   9345 non-null    object \n",
            " 12  mileage2      9399 non-null    object \n",
            " 13  fuel type2    8537 non-null    object \n",
            " 14  engine size2  8537 non-null    object \n",
            " 15  reference     9455 non-null    object \n",
            "dtypes: float64(5), object(11)\n",
            "memory usage: 14.4+ MB\n"
          ]
        }
      ]
    },
    {
      "cell_type": "markdown",
      "source": [
        "#Transformações"
      ],
      "metadata": {
        "id": "ZAR02wg3WCl5"
      }
    },
    {
      "cell_type": "code",
      "source": [
        "df_car.dropna(subset=['mpg'], how='any', inplace=True)"
      ],
      "metadata": {
        "id": "Hcwnr86Gm3Gh"
      },
      "execution_count": 116,
      "outputs": []
    },
    {
      "cell_type": "code",
      "source": [
        "df_car.dropna(axis='columns', inplace=True)"
      ],
      "metadata": {
        "id": "SKBe9wBDwhI4"
      },
      "execution_count": 117,
      "outputs": []
    },
    {
      "cell_type": "code",
      "source": [
        "df_car.info()"
      ],
      "metadata": {
        "colab": {
          "base_uri": "https://localhost:8080/"
        },
        "id": "Xc6pFyuJwpsR",
        "outputId": "7a909445-47a5-4c66-f0f9-e81fe4e4c6cc"
      },
      "execution_count": 118,
      "outputs": [
        {
          "output_type": "stream",
          "name": "stdout",
          "text": [
            "<class 'pandas.core.frame.DataFrame'>\n",
            "Int64Index: 99187 entries, 0 to 110244\n",
            "Data columns (total 8 columns):\n",
            " #   Column        Non-Null Count  Dtype  \n",
            "---  ------        --------------  -----  \n",
            " 0   model         99187 non-null  object \n",
            " 1   year          99187 non-null  float64\n",
            " 2   price         99187 non-null  object \n",
            " 3   transmission  99187 non-null  object \n",
            " 4   mileage       99187 non-null  object \n",
            " 5   fuelType      99187 non-null  object \n",
            " 6   mpg           99187 non-null  float64\n",
            " 7   engineSize    99187 non-null  float64\n",
            "dtypes: float64(3), object(5)\n",
            "memory usage: 6.8+ MB\n"
          ]
        }
      ]
    },
    {
      "cell_type": "markdown",
      "source": [
        "##Combinando modelos"
      ],
      "metadata": {
        "id": "4vfwvacdWH1j"
      }
    },
    {
      "cell_type": "code",
      "source": [
        "a = df_car.model.value_counts().reset_index()"
      ],
      "metadata": {
        "id": "u_XpUhnr5XOl"
      },
      "execution_count": 119,
      "outputs": []
    },
    {
      "cell_type": "code",
      "source": [
        "a.columns = ['model', 'qtd']"
      ],
      "metadata": {
        "id": "yQLKWlYf6BpU"
      },
      "execution_count": 120,
      "outputs": []
    },
    {
      "cell_type": "code",
      "source": [
        "finish = False\n",
        "limit_s = 3000\n",
        "limit_i = 2000\n",
        "\n",
        "group_car = 1\n",
        "find_start = 0\n",
        "while a.qtd.iloc[find_start] > limit_i:\n",
        "  find_start +=1\n",
        "\n",
        "previous = find_start\n",
        "actual = find_start + 2\n",
        "\n",
        "while finish is False:\n",
        "  if (a.qtd.iloc[previous:actual].sum() < limit_s) & (a.qtd.iloc[previous:actual].sum() >= limit_i):\n",
        "    modelos = a.model.iloc[previous:actual].values\n",
        "    \n",
        "    for modelo in modelos:\n",
        "      df_car.model.replace(modelo, 'car' + str(group_car), inplace=True)#loc[df_car.model==modelo] = 'car' + str(group_car)\n",
        "    \n",
        "    group_car +=1\n",
        "    previous = actual\n",
        "    actual += 2\n",
        "  else:\n",
        "    if (a.qtd.iloc[previous:a.shape[0]].sum() < limit_s) & (a.qtd.iloc[previous:a.shape[0]].sum() >= limit_i):\n",
        "      modelos = a.model.iloc[previous:a.shape[0]].values\n",
        "      for modelo in modelos:\n",
        "        df_car.model.replace(modelo, 'car' + str(group_car), inplace=True)\n",
        "      finish=True\n",
        "\n",
        "    elif a.qtd.iloc[previous:actual].sum() <= limit_i:\n",
        "      actual +=1\n",
        "    elif a.qtd.iloc[previous:actual].sum() > limit_s:\n",
        "      previous +=1\n",
        "      actual +=1\n",
        "  \n",
        "  if actual > a.shape[0]:\n",
        "    finish=True"
      ],
      "metadata": {
        "id": "bOzHB97q_GWd"
      },
      "execution_count": 121,
      "outputs": []
    },
    {
      "cell_type": "markdown",
      "source": [
        "##Combinando anos"
      ],
      "metadata": {
        "id": "F8jJzDU9ednI"
      }
    },
    {
      "cell_type": "code",
      "source": [
        "df_car.year = df_car.year.astype(int)\n",
        "df_car.year = df_car.year.astype(str)"
      ],
      "metadata": {
        "id": "InjqOsUxlpU4"
      },
      "execution_count": 126,
      "outputs": []
    },
    {
      "cell_type": "code",
      "source": [
        "df_car.info()"
      ],
      "metadata": {
        "colab": {
          "base_uri": "https://localhost:8080/"
        },
        "id": "l7ufEDX5lDjY",
        "outputId": "5cee698a-a5ec-459b-e375-23fa2cb6b81e"
      },
      "execution_count": 127,
      "outputs": [
        {
          "output_type": "stream",
          "name": "stdout",
          "text": [
            "<class 'pandas.core.frame.DataFrame'>\n",
            "Int64Index: 99187 entries, 0 to 110244\n",
            "Data columns (total 8 columns):\n",
            " #   Column        Non-Null Count  Dtype  \n",
            "---  ------        --------------  -----  \n",
            " 0   model         99187 non-null  object \n",
            " 1   year          99187 non-null  object \n",
            " 2   price         99187 non-null  object \n",
            " 3   transmission  99187 non-null  object \n",
            " 4   mileage       99187 non-null  object \n",
            " 5   fuelType      99187 non-null  object \n",
            " 6   mpg           99187 non-null  float64\n",
            " 7   engineSize    99187 non-null  float64\n",
            "dtypes: float64(2), object(6)\n",
            "memory usage: 6.8+ MB\n"
          ]
        }
      ]
    },
    {
      "cell_type": "code",
      "source": [
        "df_car.loc[df_car.year=='2060'].index"
      ],
      "metadata": {
        "colab": {
          "base_uri": "https://localhost:8080/"
        },
        "id": "cA3p0r_Ul7S3",
        "outputId": "39e4dab5-8e3e-49a1-8bcc-776c72061259"
      },
      "execution_count": 130,
      "outputs": [
        {
          "output_type": "execute_result",
          "data": {
            "text/plain": [
              "Int64Index([110006], dtype='int64')"
            ]
          },
          "metadata": {},
          "execution_count": 130
        }
      ]
    },
    {
      "cell_type": "code",
      "source": [
        "df_car.drop(index=df_car.loc[df_car.year=='2060'].index, inplace=True)"
      ],
      "metadata": {
        "id": "ikPD0QgOmZur"
      },
      "execution_count": 132,
      "outputs": []
    },
    {
      "cell_type": "code",
      "source": [
        "b = df_car.year.value_counts().reset_index()"
      ],
      "metadata": {
        "id": "rNigzn9xdIpN"
      },
      "execution_count": 134,
      "outputs": []
    },
    {
      "cell_type": "code",
      "source": [
        "b.columns = ['year', 'qtd']"
      ],
      "metadata": {
        "id": "0g9JC9tygZVF"
      },
      "execution_count": 136,
      "outputs": []
    },
    {
      "cell_type": "code",
      "source": [
        "anos = b.year.iloc[4:].values\n",
        "for ano in anos:\n",
        "        df_car.year.replace(ano, 'outros', inplace=True)"
      ],
      "metadata": {
        "id": "A37dNnIXnT50"
      },
      "execution_count": 142,
      "outputs": []
    },
    {
      "cell_type": "code",
      "source": [
        "df_car.year.value_counts()"
      ],
      "metadata": {
        "colab": {
          "base_uri": "https://localhost:8080/"
        },
        "id": "hI6wwXIulT9W",
        "outputId": "f2353715-6999-43c6-c6fa-2c99308416a9"
      },
      "execution_count": 143,
      "outputs": [
        {
          "output_type": "execute_result",
          "data": {
            "text/plain": [
              "2019      26771\n",
              "2017      21733\n",
              "outros    21168\n",
              "2016      15850\n",
              "2018      13664\n",
              "Name: year, dtype: int64"
            ]
          },
          "metadata": {},
          "execution_count": 143
        }
      ]
    },
    {
      "cell_type": "markdown",
      "source": [
        "#testes"
      ],
      "metadata": {
        "id": "DOaMMdUAort4"
      }
    },
    {
      "cell_type": "code",
      "source": [
        "df_car.head()"
      ],
      "metadata": {
        "colab": {
          "base_uri": "https://localhost:8080/",
          "height": 206
        },
        "id": "B_P9d3nTnMXo",
        "outputId": "5e5fa714-49f0-4436-c57c-43659b4f8d82"
      },
      "execution_count": 144,
      "outputs": [
        {
          "output_type": "execute_result",
          "data": {
            "text/plain": [
              "   model    year  price transmission mileage fuelType   mpg  engineSize\n",
              "0   car1    2017  10550       Manual   25250   Petrol  54.3         1.4\n",
              "1  car14    2018   8200       Manual    1264   Petrol  67.3         1.0\n",
              "2   car1    2019  15650    Automatic    6825   Diesel  67.3         2.0\n",
              "3  car14  outros  14000    Automatic   28431   Diesel  51.4         2.0\n",
              "4   car9    2019  18350       Manual   10912   Petrol  40.9         1.5"
            ],
            "text/html": [
              "\n",
              "  <div id=\"df-b13752a4-4c51-4798-9d09-96c390fe847e\">\n",
              "    <div class=\"colab-df-container\">\n",
              "      <div>\n",
              "<style scoped>\n",
              "    .dataframe tbody tr th:only-of-type {\n",
              "        vertical-align: middle;\n",
              "    }\n",
              "\n",
              "    .dataframe tbody tr th {\n",
              "        vertical-align: top;\n",
              "    }\n",
              "\n",
              "    .dataframe thead th {\n",
              "        text-align: right;\n",
              "    }\n",
              "</style>\n",
              "<table border=\"1\" class=\"dataframe\">\n",
              "  <thead>\n",
              "    <tr style=\"text-align: right;\">\n",
              "      <th></th>\n",
              "      <th>model</th>\n",
              "      <th>year</th>\n",
              "      <th>price</th>\n",
              "      <th>transmission</th>\n",
              "      <th>mileage</th>\n",
              "      <th>fuelType</th>\n",
              "      <th>mpg</th>\n",
              "      <th>engineSize</th>\n",
              "    </tr>\n",
              "  </thead>\n",
              "  <tbody>\n",
              "    <tr>\n",
              "      <th>0</th>\n",
              "      <td>car1</td>\n",
              "      <td>2017</td>\n",
              "      <td>10550</td>\n",
              "      <td>Manual</td>\n",
              "      <td>25250</td>\n",
              "      <td>Petrol</td>\n",
              "      <td>54.3</td>\n",
              "      <td>1.4</td>\n",
              "    </tr>\n",
              "    <tr>\n",
              "      <th>1</th>\n",
              "      <td>car14</td>\n",
              "      <td>2018</td>\n",
              "      <td>8200</td>\n",
              "      <td>Manual</td>\n",
              "      <td>1264</td>\n",
              "      <td>Petrol</td>\n",
              "      <td>67.3</td>\n",
              "      <td>1.0</td>\n",
              "    </tr>\n",
              "    <tr>\n",
              "      <th>2</th>\n",
              "      <td>car1</td>\n",
              "      <td>2019</td>\n",
              "      <td>15650</td>\n",
              "      <td>Automatic</td>\n",
              "      <td>6825</td>\n",
              "      <td>Diesel</td>\n",
              "      <td>67.3</td>\n",
              "      <td>2.0</td>\n",
              "    </tr>\n",
              "    <tr>\n",
              "      <th>3</th>\n",
              "      <td>car14</td>\n",
              "      <td>outros</td>\n",
              "      <td>14000</td>\n",
              "      <td>Automatic</td>\n",
              "      <td>28431</td>\n",
              "      <td>Diesel</td>\n",
              "      <td>51.4</td>\n",
              "      <td>2.0</td>\n",
              "    </tr>\n",
              "    <tr>\n",
              "      <th>4</th>\n",
              "      <td>car9</td>\n",
              "      <td>2019</td>\n",
              "      <td>18350</td>\n",
              "      <td>Manual</td>\n",
              "      <td>10912</td>\n",
              "      <td>Petrol</td>\n",
              "      <td>40.9</td>\n",
              "      <td>1.5</td>\n",
              "    </tr>\n",
              "  </tbody>\n",
              "</table>\n",
              "</div>\n",
              "      <button class=\"colab-df-convert\" onclick=\"convertToInteractive('df-b13752a4-4c51-4798-9d09-96c390fe847e')\"\n",
              "              title=\"Convert this dataframe to an interactive table.\"\n",
              "              style=\"display:none;\">\n",
              "        \n",
              "  <svg xmlns=\"http://www.w3.org/2000/svg\" height=\"24px\"viewBox=\"0 0 24 24\"\n",
              "       width=\"24px\">\n",
              "    <path d=\"M0 0h24v24H0V0z\" fill=\"none\"/>\n",
              "    <path d=\"M18.56 5.44l.94 2.06.94-2.06 2.06-.94-2.06-.94-.94-2.06-.94 2.06-2.06.94zm-11 1L8.5 8.5l.94-2.06 2.06-.94-2.06-.94L8.5 2.5l-.94 2.06-2.06.94zm10 10l.94 2.06.94-2.06 2.06-.94-2.06-.94-.94-2.06-.94 2.06-2.06.94z\"/><path d=\"M17.41 7.96l-1.37-1.37c-.4-.4-.92-.59-1.43-.59-.52 0-1.04.2-1.43.59L10.3 9.45l-7.72 7.72c-.78.78-.78 2.05 0 2.83L4 21.41c.39.39.9.59 1.41.59.51 0 1.02-.2 1.41-.59l7.78-7.78 2.81-2.81c.8-.78.8-2.07 0-2.86zM5.41 20L4 18.59l7.72-7.72 1.47 1.35L5.41 20z\"/>\n",
              "  </svg>\n",
              "      </button>\n",
              "      \n",
              "  <style>\n",
              "    .colab-df-container {\n",
              "      display:flex;\n",
              "      flex-wrap:wrap;\n",
              "      gap: 12px;\n",
              "    }\n",
              "\n",
              "    .colab-df-convert {\n",
              "      background-color: #E8F0FE;\n",
              "      border: none;\n",
              "      border-radius: 50%;\n",
              "      cursor: pointer;\n",
              "      display: none;\n",
              "      fill: #1967D2;\n",
              "      height: 32px;\n",
              "      padding: 0 0 0 0;\n",
              "      width: 32px;\n",
              "    }\n",
              "\n",
              "    .colab-df-convert:hover {\n",
              "      background-color: #E2EBFA;\n",
              "      box-shadow: 0px 1px 2px rgba(60, 64, 67, 0.3), 0px 1px 3px 1px rgba(60, 64, 67, 0.15);\n",
              "      fill: #174EA6;\n",
              "    }\n",
              "\n",
              "    [theme=dark] .colab-df-convert {\n",
              "      background-color: #3B4455;\n",
              "      fill: #D2E3FC;\n",
              "    }\n",
              "\n",
              "    [theme=dark] .colab-df-convert:hover {\n",
              "      background-color: #434B5C;\n",
              "      box-shadow: 0px 1px 3px 1px rgba(0, 0, 0, 0.15);\n",
              "      filter: drop-shadow(0px 1px 2px rgba(0, 0, 0, 0.3));\n",
              "      fill: #FFFFFF;\n",
              "    }\n",
              "  </style>\n",
              "\n",
              "      <script>\n",
              "        const buttonEl =\n",
              "          document.querySelector('#df-b13752a4-4c51-4798-9d09-96c390fe847e button.colab-df-convert');\n",
              "        buttonEl.style.display =\n",
              "          google.colab.kernel.accessAllowed ? 'block' : 'none';\n",
              "\n",
              "        async function convertToInteractive(key) {\n",
              "          const element = document.querySelector('#df-b13752a4-4c51-4798-9d09-96c390fe847e');\n",
              "          const dataTable =\n",
              "            await google.colab.kernel.invokeFunction('convertToInteractive',\n",
              "                                                     [key], {});\n",
              "          if (!dataTable) return;\n",
              "\n",
              "          const docLinkHtml = 'Like what you see? Visit the ' +\n",
              "            '<a target=\"_blank\" href=https://colab.research.google.com/notebooks/data_table.ipynb>data table notebook</a>'\n",
              "            + ' to learn more about interactive tables.';\n",
              "          element.innerHTML = '';\n",
              "          dataTable['output_type'] = 'display_data';\n",
              "          await google.colab.output.renderOutput(dataTable, element);\n",
              "          const docLink = document.createElement('div');\n",
              "          docLink.innerHTML = docLinkHtml;\n",
              "          element.appendChild(docLink);\n",
              "        }\n",
              "      </script>\n",
              "    </div>\n",
              "  </div>\n",
              "  "
            ]
          },
          "metadata": {},
          "execution_count": 144
        }
      ]
    },
    {
      "cell_type": "code",
      "source": [
        ""
      ],
      "metadata": {
        "id": "DKa4L-cyow0I"
      },
      "execution_count": null,
      "outputs": []
    }
  ]
}